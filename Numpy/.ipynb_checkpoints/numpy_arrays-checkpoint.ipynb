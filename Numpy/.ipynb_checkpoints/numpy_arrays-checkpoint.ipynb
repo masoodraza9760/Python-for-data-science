{
 "cells": [
  {
   "cell_type": "code",
   "execution_count": 27,
   "id": "19d95703-3926-4c5c-9691-c34bff105053",
   "metadata": {},
   "outputs": [
    {
     "data": {
      "text/plain": [
       "array([1, 2, 3])"
      ]
     },
     "execution_count": 27,
     "metadata": {},
     "output_type": "execute_result"
    }
   ],
   "source": [
    "#Create array\n",
    "my_list =[1,2,3]\n",
    "import numpy as np\n",
    "arr=np.array(my_list)\n",
    "arr"
   ]
  },
  {
   "cell_type": "code",
   "execution_count": 29,
   "id": "65777a0b-ef74-4df4-a30a-cbec4d6c9a9a",
   "metadata": {},
   "outputs": [
    {
     "data": {
      "text/plain": [
       "array([[1, 2, 3],\n",
       "       [4, 5, 6],\n",
       "       [7, 8, 9]])"
      ]
     },
     "execution_count": 29,
     "metadata": {},
     "output_type": "execute_result"
    }
   ],
   "source": [
    "#Create Matrix using numpy\n",
    "my_mat = [[1,2,3],[4,5,6],[7,8,9]]\n",
    "np.array(my_mat)"
   ]
  },
  {
   "cell_type": "code",
   "execution_count": 24,
   "id": "798d65c4-b95a-491f-aa2a-f450903eec68",
   "metadata": {},
   "outputs": [
    {
     "data": {
      "text/plain": [
       "array([ 0,  1,  2,  3,  4,  5,  6,  7,  8,  9, 10])"
      ]
     },
     "execution_count": 24,
     "metadata": {},
     "output_type": "execute_result"
    }
   ],
   "source": [
    "#Numpy range\n",
    "np.arange(0,11)\n"
   ]
  },
  {
   "cell_type": "code",
   "execution_count": 25,
   "id": "b5a2b223-eb18-48df-8213-165ad3b17487",
   "metadata": {},
   "outputs": [
    {
     "data": {
      "text/plain": [
       "array([ 0,  2,  4,  6,  8, 10])"
      ]
     },
     "execution_count": 25,
     "metadata": {},
     "output_type": "execute_result"
    }
   ],
   "source": [
    "#Numpy range with even numbers\n",
    "np.arange(0,11,2)"
   ]
  },
  {
   "cell_type": "code",
   "execution_count": 30,
   "id": "bd257a21-c55b-4f42-b3a5-661261709f06",
   "metadata": {},
   "outputs": [
    {
     "data": {
      "text/plain": [
       "array([0., 0., 0.])"
      ]
     },
     "execution_count": 30,
     "metadata": {},
     "output_type": "execute_result"
    }
   ],
   "source": [
    "#Generate a arrays of all zeros\n",
    "np.zeros(3)"
   ]
  },
  {
   "cell_type": "code",
   "execution_count": 32,
   "id": "dc6208dc-8b81-4dde-9942-911e5bf92d47",
   "metadata": {},
   "outputs": [
    {
     "data": {
      "text/plain": [
       "array([[0., 0., 0., 0., 0.],\n",
       "       [0., 0., 0., 0., 0.],\n",
       "       [0., 0., 0., 0., 0.],\n",
       "       [0., 0., 0., 0., 0.],\n",
       "       [0., 0., 0., 0., 0.]])"
      ]
     },
     "execution_count": 32,
     "metadata": {},
     "output_type": "execute_result"
    }
   ],
   "source": [
    "np.zeros((5,5))"
   ]
  },
  {
   "cell_type": "code",
   "execution_count": 33,
   "id": "3f71ef27-198b-42e3-81f5-80cd51d5d28e",
   "metadata": {},
   "outputs": [
    {
     "data": {
      "text/plain": [
       "array([1., 1., 1., 1.])"
      ]
     },
     "execution_count": 33,
     "metadata": {},
     "output_type": "execute_result"
    }
   ],
   "source": [
    "np.ones(4)"
   ]
  },
  {
   "cell_type": "code",
   "execution_count": 34,
   "id": "e6a3433d-2270-448f-a763-d8adf9d35aa5",
   "metadata": {},
   "outputs": [
    {
     "data": {
      "text/plain": [
       "array([[1., 1., 1., 1.],\n",
       "       [1., 1., 1., 1.],\n",
       "       [1., 1., 1., 1.]])"
      ]
     },
     "execution_count": 34,
     "metadata": {},
     "output_type": "execute_result"
    }
   ],
   "source": [
    "np.ones((3,4))"
   ]
  },
  {
   "cell_type": "code",
   "execution_count": 36,
   "id": "6bab8979-dedf-4b91-844f-b0e5f96a235e",
   "metadata": {},
   "outputs": [
    {
     "data": {
      "text/plain": [
       "array([0.        , 0.55555556, 1.11111111, 1.66666667, 2.22222222,\n",
       "       2.77777778, 3.33333333, 3.88888889, 4.44444444, 5.        ])"
      ]
     },
     "execution_count": 36,
     "metadata": {},
     "output_type": "execute_result"
    }
   ],
   "source": [
    "# Linespace which gives array within a range with a third argument as number of elements i.e., 10\n",
    "np.linspace(0,5,10)"
   ]
  },
  {
   "cell_type": "code",
   "execution_count": 37,
   "id": "03015b2b-e629-4f2a-bd85-feb3fc6d17b7",
   "metadata": {},
   "outputs": [
    {
     "data": {
      "text/plain": [
       "array([[1., 0., 0., 0.],\n",
       "       [0., 1., 0., 0.],\n",
       "       [0., 0., 1., 0.],\n",
       "       [0., 0., 0., 1.]])"
      ]
     },
     "execution_count": 37,
     "metadata": {},
     "output_type": "execute_result"
    }
   ],
   "source": [
    "#Identitiy matrix\n",
    "np.eye(4)"
   ]
  },
  {
   "cell_type": "code",
   "execution_count": 39,
   "id": "c9ef0a8c-2eba-4a64-8d6d-0493c147333d",
   "metadata": {},
   "outputs": [
    {
     "data": {
      "text/plain": [
       "array([0.47061983, 0.38987051, 0.83290016, 0.5508462 , 0.9172373 ])"
      ]
     },
     "execution_count": 39,
     "metadata": {},
     "output_type": "execute_result"
    }
   ],
   "source": [
    "#Generate random numbers from U(0,1)\n",
    "np.random.rand(5)"
   ]
  },
  {
   "cell_type": "code",
   "execution_count": 41,
   "id": "098c396b-a8a7-4dce-ae4d-55463a531839",
   "metadata": {},
   "outputs": [
    {
     "data": {
      "text/plain": [
       "array([[0.86107611, 0.96326087, 0.67007989, 0.73309306, 0.42009429],\n",
       "       [0.15812817, 0.062636  , 0.03226611, 0.04136153, 0.04794971],\n",
       "       [0.63800643, 0.10604677, 0.71730837, 0.77452807, 0.97206786],\n",
       "       [0.79721777, 0.79790048, 0.26721378, 0.33830533, 0.74529426],\n",
       "       [0.09351758, 0.01722362, 0.1404316 , 0.18789758, 0.51263474]])"
      ]
     },
     "execution_count": 41,
     "metadata": {},
     "output_type": "execute_result"
    }
   ],
   "source": [
    "#Generate 2D random numbers from U(0,1)\n",
    "np.random.rand(5,5)"
   ]
  },
  {
   "cell_type": "code",
   "execution_count": 40,
   "id": "097bb7b6-11b3-41ad-831e-22c4fcf20aec",
   "metadata": {},
   "outputs": [
    {
     "data": {
      "text/plain": [
       "array([0.33937594, 1.67486611])"
      ]
     },
     "execution_count": 40,
     "metadata": {},
     "output_type": "execute_result"
    }
   ],
   "source": [
    "#Generate random numbers from N(0,1)\n",
    "np.random.randn(2)"
   ]
  },
  {
   "cell_type": "code",
   "execution_count": 42,
   "id": "85cb43fb-be4f-4fc9-90a6-85a5aee6fb48",
   "metadata": {},
   "outputs": [
    {
     "data": {
      "text/plain": [
       "array([[ 0.2327826 , -1.58823062],\n",
       "       [-0.97160238, -0.09721375]])"
      ]
     },
     "execution_count": 42,
     "metadata": {},
     "output_type": "execute_result"
    }
   ],
   "source": [
    "#Generate 2D random numbers from N(0,1)\n",
    "np.random.randn(2,2)"
   ]
  },
  {
   "cell_type": "code",
   "execution_count": 46,
   "id": "c9fc3ed3-eece-4046-8c66-863e9efeb094",
   "metadata": {},
   "outputs": [
    {
     "data": {
      "text/plain": [
       "52"
      ]
     },
     "execution_count": 46,
     "metadata": {},
     "output_type": "execute_result"
    }
   ],
   "source": [
    "#Generate random number from a range\n",
    "np.random.randint(1,100)"
   ]
  },
  {
   "cell_type": "code",
   "execution_count": 45,
   "id": "ccf616c4-d9db-43a3-ba82-e75004250e03",
   "metadata": {},
   "outputs": [
    {
     "data": {
      "text/plain": [
       "array([39,  4, 94, 89, 91, 37, 78, 27, 24, 44], dtype=int32)"
      ]
     },
     "execution_count": 45,
     "metadata": {},
     "output_type": "execute_result"
    }
   ],
   "source": [
    "#Generate random numbers from a range\n",
    "np.random.randint(1,100,10)"
   ]
  },
  {
   "cell_type": "code",
   "execution_count": null,
   "id": "533de31a-9478-490c-9563-b05070199c65",
   "metadata": {},
   "outputs": [],
   "source": []
  },
  {
   "cell_type": "code",
   "execution_count": 53,
   "id": "068e4c18-488d-46bf-87ea-8448b324514f",
   "metadata": {},
   "outputs": [
    {
     "data": {
      "text/plain": [
       "array([[ 0,  1,  2,  3,  4],\n",
       "       [ 5,  6,  7,  8,  9],\n",
       "       [10, 11, 12, 13, 14],\n",
       "       [15, 16, 17, 18, 19],\n",
       "       [20, 21, 22, 23, 24]])"
      ]
     },
     "execution_count": 53,
     "metadata": {},
     "output_type": "execute_result"
    }
   ],
   "source": [
    "#To reshape a array into another dimension\n",
    "arr=np.arange(25)\n",
    "arr\n",
    "arr.reshape(5,5)"
   ]
  },
  {
   "cell_type": "code",
   "execution_count": 59,
   "id": "1bc4d517-4706-4901-85e3-4d4a7291376c",
   "metadata": {},
   "outputs": [
    {
     "data": {
      "text/plain": [
       "array([31, 36,  4, 41, 19, 28, 17, 15, 18,  7], dtype=int32)"
      ]
     },
     "execution_count": 59,
     "metadata": {},
     "output_type": "execute_result"
    }
   ],
   "source": [
    "ranarr=np.random.randint(0,50,10)\n",
    "ranarr\n",
    "\n"
   ]
  },
  {
   "cell_type": "code",
   "execution_count": 60,
   "id": "51a3ad8c-87ac-4311-91a8-d17eeca1d915",
   "metadata": {},
   "outputs": [
    {
     "data": {
      "text/plain": [
       "np.int32(41)"
      ]
     },
     "execution_count": 60,
     "metadata": {},
     "output_type": "execute_result"
    }
   ],
   "source": [
    "#To det the max\n",
    "ranarr.max()"
   ]
  },
  {
   "cell_type": "code",
   "execution_count": 61,
   "id": "81165b58-2725-4058-b656-77826e7e4c5d",
   "metadata": {},
   "outputs": [
    {
     "data": {
      "text/plain": [
       "np.int32(4)"
      ]
     },
     "execution_count": 61,
     "metadata": {},
     "output_type": "execute_result"
    }
   ],
   "source": [
    "#To get the min\n",
    "ranarr.min()"
   ]
  },
  {
   "cell_type": "code",
   "execution_count": 62,
   "id": "867a0931-12ef-446d-826e-5d22960f6d98",
   "metadata": {},
   "outputs": [
    {
     "data": {
      "text/plain": [
       "np.int64(3)"
      ]
     },
     "execution_count": 62,
     "metadata": {},
     "output_type": "execute_result"
    }
   ],
   "source": [
    "#To get the index location\n",
    "ranarr.argmax()"
   ]
  },
  {
   "cell_type": "code",
   "execution_count": 63,
   "id": "0c1bdfb9-407c-4cea-9185-6b3dc70cc34e",
   "metadata": {},
   "outputs": [
    {
     "data": {
      "text/plain": [
       "np.int64(2)"
      ]
     },
     "execution_count": 63,
     "metadata": {},
     "output_type": "execute_result"
    }
   ],
   "source": [
    "ranarr.argmin()"
   ]
  },
  {
   "cell_type": "code",
   "execution_count": null,
   "id": "55e2df93-c1a9-45ae-bcc6-b6458d642755",
   "metadata": {},
   "outputs": [],
   "source": []
  }
 ],
 "metadata": {
  "kernelspec": {
   "display_name": "Python 3 (ipykernel)",
   "language": "python",
   "name": "python3"
  },
  "language_info": {
   "codemirror_mode": {
    "name": "ipython",
    "version": 3
   },
   "file_extension": ".py",
   "mimetype": "text/x-python",
   "name": "python",
   "nbconvert_exporter": "python",
   "pygments_lexer": "ipython3",
   "version": "3.13.5"
  }
 },
 "nbformat": 4,
 "nbformat_minor": 5
}

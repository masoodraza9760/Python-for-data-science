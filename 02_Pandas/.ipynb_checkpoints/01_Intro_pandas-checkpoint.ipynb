{
 "cells": [
  {
   "cell_type": "markdown",
   "id": "b0a4a094-f4e0-4636-866c-63d9fb10b7d8",
   "metadata": {},
   "source": [
    "# Introduction to Pandas\n",
    "\n",
    "**Pandas** is an open-source library built on top of **NumPy**.  \n",
    "It allows for fast analysis and data cleaning and preparation.  \n",
    "It also offers built-in visualization features and can work with data from a wide variety of sources.  \n",
    "\n",
    "---\n",
    "\n",
    "## Key Features and Functionalities of Pandas\n",
    "\n",
    "- **Series**  \n",
    "  A one-dimensional labeled array capable of holding any data type.  \n",
    "\n",
    "- **DataFrames**  \n",
    "  A two-dimensional labeled data structure with columns of potentially different types.  \n",
    "\n",
    "- **Missing Data**  \n",
    "  Tools for handling missing or null values in datasets.  \n",
    "\n",
    "- **GroupBy**  \n",
    "  Provides the ability to split datasets, apply functions, and combine results.  \n",
    "\n",
    "- **Merging, Joining, and Concatenating**  \n",
    "  Functions for combining multiple datasets together.  \n",
    "\n",
    "- **Operations**  \n",
    "  Supports mathematical and statistical operations on data.  \n",
    "\n",
    "- **Data Input and Output**  \n",
    "  Functions to read and write data from various file formats (CSV, Excel, SQL, etc.).  \n"
   ]
  },
  {
   "cell_type": "code",
   "execution_count": null,
   "id": "966dfc59-5910-4316-a1b1-4a017c8122b0",
   "metadata": {},
   "outputs": [],
   "source": []
  }
 ],
 "metadata": {
  "kernelspec": {
   "display_name": "Python 3 (ipykernel)",
   "language": "python",
   "name": "python3"
  },
  "language_info": {
   "codemirror_mode": {
    "name": "ipython",
    "version": 3
   },
   "file_extension": ".py",
   "mimetype": "text/x-python",
   "name": "python",
   "nbconvert_exporter": "python",
   "pygments_lexer": "ipython3",
   "version": "3.13.5"
  }
 },
 "nbformat": 4,
 "nbformat_minor": 5
}

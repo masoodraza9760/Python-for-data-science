{
 "cells": [
  {
   "cell_type": "markdown",
   "id": "2b49cb75-53d5-45b7-b4c8-8367fe9cb02c",
   "metadata": {},
   "source": [
    "# Data Input and Output\n",
    "\n",
    "This notebook is the reference code for getting input and output, pandas can read a variety of file types using its pd.read_ methods. Let's take a look at the most common data types:\n",
    "\n",
    "We need to install with pip or conda in command prompt:\n",
    "\n",
    "    conda install sqlalchemy\n",
    "    conda install xlrd\n",
    "    conda install lxml\n",
    "    conda install html5lib\n",
    "    conda install BeautifulSoup4\n",
    "\n",
    "    pip install sqlalchemy\n",
    "    pip install xlrd\n",
    "    pip install openpyxl\n",
    "    pip install lxml\n",
    "    pip install html5lib\n",
    "    pip install BeautifulSoup4\n",
    "    "
   ]
  },
  {
   "cell_type": "markdown",
   "id": "975105aa-35ab-488e-a420-9169b688c412",
   "metadata": {},
   "source": [
    "## CSV\n",
    "\n",
    "### CSV Input"
   ]
  },
  {
   "cell_type": "code",
   "execution_count": null,
   "id": "b3e5712b-a2d6-41a7-85db-97dc7e879c3e",
   "metadata": {},
   "outputs": [],
   "source": [
    "import pandas as pd"
   ]
  },
  {
   "cell_type": "code",
   "execution_count": null,
   "id": "bedd1eb1-59a8-4de4-b0fa-374f20cf06e5",
   "metadata": {},
   "outputs": [],
   "source": [
    "# know the working directory"
   ]
  },
  {
   "cell_type": "code",
   "execution_count": null,
   "id": "6e2eea39-bd79-41f1-b6c7-df788b0c58d5",
   "metadata": {},
   "outputs": [],
   "source": [
    "pwd"
   ]
  },
  {
   "cell_type": "code",
   "execution_count": null,
   "id": "96bac1d9-d590-49f4-9631-987dc1a4e4a6",
   "metadata": {},
   "outputs": [],
   "source": [
    "df = pd.read_csv('example')\n",
    "df"
   ]
  },
  {
   "cell_type": "markdown",
   "id": "6a8112bd-4300-4d03-a4fd-bd10f7dfd4af",
   "metadata": {},
   "source": [
    "### CSV Output"
   ]
  },
  {
   "cell_type": "code",
   "execution_count": null,
   "id": "6e6910f3-29fe-4aaf-81f7-921ed0321aaf",
   "metadata": {},
   "outputs": [],
   "source": [
    "#to save\n",
    "df.to_csv('My_output',index=False)"
   ]
  },
  {
   "cell_type": "code",
   "execution_count": null,
   "id": "3704532b-8167-484a-bff6-fe8703ef2cfa",
   "metadata": {},
   "outputs": [],
   "source": [
    "pd.read_csv('My_output')"
   ]
  },
  {
   "cell_type": "code",
   "execution_count": null,
   "id": "29170245-19bd-475b-8413-054f9002b9cb",
   "metadata": {},
   "outputs": [],
   "source": []
  },
  {
   "cell_type": "markdown",
   "id": "97c40ed1-719e-435d-b8f9-bc48050a9954",
   "metadata": {},
   "source": [
    "## Excel\n",
    "Pandas can read and write excel files, keep in mind, this only imports data. Not formulas or images, having images or macros may cause this read_excel method to crash. "
   ]
  },
  {
   "cell_type": "code",
   "execution_count": null,
   "id": "41fe3e77-8dee-4100-b539-c2c2cd68cf19",
   "metadata": {},
   "outputs": [],
   "source": [
    "pd.read_excel('Excel_Sample.xlsx',sheet_name='Sheet1')"
   ]
  },
  {
   "cell_type": "markdown",
   "id": "5d33d3fc-6f0b-4e9e-bbe0-11c8481f3029",
   "metadata": {},
   "source": [
    "### Excel Output"
   ]
  },
  {
   "cell_type": "code",
   "execution_count": null,
   "id": "f02cce0e-486b-4925-9651-3c423f9ecf5f",
   "metadata": {},
   "outputs": [],
   "source": [
    "df.to_excel('Excel_Sample2.xlsx',sheet_name='NewSheet')"
   ]
  },
  {
   "cell_type": "code",
   "execution_count": null,
   "id": "e06552eb-5c32-4f93-be74-6933034c7f90",
   "metadata": {},
   "outputs": [],
   "source": []
  },
  {
   "cell_type": "markdown",
   "id": "8fb1994b-f733-4769-a0e4-58444cdee40e",
   "metadata": {},
   "source": [
    "### HTML Input\n",
    "\n",
    "Pandas read_html function will read tables off of a webpage and return a list of DataFrame objects:"
   ]
  },
  {
   "cell_type": "code",
   "execution_count": null,
   "id": "a6401cc1-251c-4df0-8fb1-243bf4c5a5c5",
   "metadata": {},
   "outputs": [],
   "source": [
    "data = pd.read_html('http://www.fdic.gov/bank/individual/failed/banklist.html')"
   ]
  },
  {
   "cell_type": "code",
   "execution_count": null,
   "id": "306f7a70-ae67-473d-8cd8-652af739f6a3",
   "metadata": {},
   "outputs": [],
   "source": [
    "type(data)"
   ]
  },
  {
   "cell_type": "code",
   "execution_count": null,
   "id": "25ac1717-0a35-4db4-993e-cc7e2a6d699a",
   "metadata": {},
   "outputs": [],
   "source": [
    "df[0]"
   ]
  },
  {
   "cell_type": "code",
   "execution_count": null,
   "id": "cc29acb4-8836-4bc2-aa07-873ee2740d04",
   "metadata": {},
   "outputs": [],
   "source": []
  },
  {
   "cell_type": "markdown",
   "id": "063ffa15-35ff-466f-ae8f-8ee3ed1dfdff",
   "metadata": {},
   "source": [
    "# SQL\n",
    "The pandas.io.sql module provides a collection of query wrappers to both facilitate data retrieval and to reduce dependency on DB-specific API. \n",
    "\n",
    "Database abstraction is provided by SQLAlchemy if installed. In addition you will need a driver library for your database. \n",
    "\n",
    "Examples of such drivers are psycopg2 for PostgreSQL or pymysql for MySQL. \n",
    "\n",
    "For SQLite this is included in Python’s standard library by default. \n",
    "\n",
    "You can find an overview of supported drivers for each SQL dialect in the SQLAlchemy docs.\n",
    "\n",
    "\n",
    "If SQLAlchemy is not installed, a fallback is only provided for sqlite (and for mysql for backwards compatibility, but this is deprecated and will be removed in a future version). This mode requires a Python database adapter which respect the Python DB-API.\n",
    "\n",
    "See also some cookbook examples for some advanced strategies.\n",
    "\n",
    "The key functions are:\n",
    "\n",
    "* read_sql_table(table_name, con[, schema, ...])\t\n",
    "    * Read SQL database table into a DataFrame.\n",
    "* read_sql_query(sql, con[, index_col, ...])\t\n",
    "    * Read SQL query into a DataFrame.\n",
    "* read_sql(sql, con[, index_col, ...])\t\n",
    "    * Read SQL query or database table into a DataFrame.\n",
    "* DataFrame.to_sql(name, con[, flavor, ...])\t\n",
    "    * Write records stored in a DataFrame to a SQL database."
   ]
  },
  {
   "cell_type": "code",
   "execution_count": null,
   "id": "dab365f8-c776-4032-adeb-f30aa942a662",
   "metadata": {},
   "outputs": [],
   "source": [
    "from sqlalchemy import create_engine"
   ]
  },
  {
   "cell_type": "code",
   "execution_count": null,
   "id": "53ae5821-6fb5-4d16-9750-28d9971467b4",
   "metadata": {},
   "outputs": [],
   "source": [
    "engine = create_engine('sqlite:///:memory:')"
   ]
  },
  {
   "cell_type": "code",
   "execution_count": null,
   "id": "234bbbb4-5f77-46c0-9c34-ddab3867981f",
   "metadata": {},
   "outputs": [],
   "source": [
    "data = [{'id': 1, 'name': 'Alice'}, {'id': 2, 'name': 'Bob'},{'id':3, 'name':'Masood'}]\n",
    "df = pd.DataFrame(data)\n",
    "df"
   ]
  },
  {
   "cell_type": "code",
   "execution_count": null,
   "id": "0421c346-45f7-4cb6-8d18-42afb150a736",
   "metadata": {},
   "outputs": [],
   "source": [
    "df.to_sql('df', engine)"
   ]
  },
  {
   "cell_type": "code",
   "execution_count": null,
   "id": "094bfb01-4169-47a7-ba53-84dbb1c71f94",
   "metadata": {},
   "outputs": [],
   "source": [
    "sql_df1 = pd.read_sql('df',con=engine)"
   ]
  },
  {
   "cell_type": "code",
   "execution_count": null,
   "id": "f671c7cd-28b2-4b49-999f-ebde81b35803",
   "metadata": {},
   "outputs": [],
   "source": [
    "sql_df1"
   ]
  },
  {
   "cell_type": "code",
   "execution_count": null,
   "id": "7390e227-1911-4794-8c51-6365293970b3",
   "metadata": {},
   "outputs": [],
   "source": []
  }
 ],
 "metadata": {
  "kernelspec": {
   "display_name": "Python 3 (ipykernel)",
   "language": "python",
   "name": "python3"
  },
  "language_info": {
   "codemirror_mode": {
    "name": "ipython",
    "version": 3
   },
   "file_extension": ".py",
   "mimetype": "text/x-python",
   "name": "python",
   "nbconvert_exporter": "python",
   "pygments_lexer": "ipython3",
   "version": "3.13.5"
  }
 },
 "nbformat": 4,
 "nbformat_minor": 5
}
